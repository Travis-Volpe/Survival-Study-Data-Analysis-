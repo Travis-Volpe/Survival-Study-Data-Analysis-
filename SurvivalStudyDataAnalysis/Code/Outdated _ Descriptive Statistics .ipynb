{
 "cells": [
  {
   "cell_type": "code",
   "execution_count": null,
   "metadata": {},
   "outputs": [],
   "source": [
    "import pandas as pd\n",
    "import numpy as np\n",
    "from datetime import datetime \n",
    "\n",
    "from matplotlib import pyplot as plt\n",
    "import seaborn as sns"
   ]
  },
  {
   "cell_type": "code",
   "execution_count": null,
   "metadata": {},
   "outputs": [],
   "source": [
    "# Use 2019 data with data collected by SCA removed or 2018 data\n",
    "ss_data_path = r'E:/SurvivalStudyDataAnalysis/Data/SS_Data_sty.csv'\n",
    "ss = pd.read_csv(ss_data_path, sep=',')\n",
    "ss"
   ]
  },
  {
   "cell_type": "code",
   "execution_count": null,
   "metadata": {},
   "outputs": [],
   "source": [
    "ss.columns"
   ]
  },
  {
   "cell_type": "code",
   "execution_count": null,
   "metadata": {},
   "outputs": [],
   "source": [
    "correlation_matrix = ss.corr()\n",
    "fig = plt.figure(figsize=(12,9))\n",
    "sns.heatmap(correlation_matrix, vmax=0.8, square=True)\n",
    "plt.show()"
   ]
  },
  {
   "cell_type": "code",
   "execution_count": null,
   "metadata": {},
   "outputs": [],
   "source": [
    "# Survival rate for Genus\n",
    "genus_dead = ss[(ss.isAlive == 0)].db_Genus.value_counts()\n",
    "\n",
    "genus_alive = ss[(ss.isAlive == 1)].db_Genus.value_counts()\n",
    "\n",
    "genus_total = ss[(ss.isAlive == 0) | (ss.isAlive == 1)].db_Genus.value_counts()\n",
    "\n",
    "genus_death_rate = (ss[(ss.isAlive == 0)].db_Genus.value_counts() / ss[(ss.isAlive == 0) | (ss.isAlive == 1)].db_Genus.value_counts() * 100)\n",
    "\n",
    "genus_survival_rate = (ss[(ss.isAlive == 1)].db_Genus.value_counts() / ss[(ss.isAlive == 0) | (ss.isAlive == 1)].db_Genus.value_counts() * 100)\n",
    "\n",
    "print(\"Dead # : \",genus_dead)\n",
    "print(\"Alive # : \",genus_alive)\n",
    "print(\"Total # : \",genus_total)\n",
    "print(\"Death Rate # : \",genus_death_rate)\n",
    "print(\"Survival Rate # : \",genus_survival_rate)"
   ]
  },
  {
   "cell_type": "code",
   "execution_count": null,
   "metadata": {},
   "outputs": [],
   "source": [
    "# Survival rate for SpaceType\n",
    "st_dead = ss[(ss.isAlive == 0)].SpaceType1.value_counts()\n",
    "\n",
    "st_alive = ss[(ss.isAlive == 1)].SpaceType1.value_counts()\n",
    "\n",
    "st_total = ss[(ss.isAlive == 0) | (ss.isAlive == 1)].SpaceType1.value_counts()\n",
    "\n",
    "st_death_rate = (ss[(ss.isAlive == 0)].SpaceType1.value_counts() / ss[(ss.isAlive == 0) | (ss.isAlive == 1)].SpaceType1.value_counts() * 100)\n",
    "\n",
    "st_survival_rate = (ss[(ss.isAlive == 1)].SpaceType1.value_counts() / ss[(ss.isAlive == 0) | (ss.isAlive == 1)].SpaceType1.value_counts() * 100)\n",
    "\n",
    "print(\"Dead # : \",st_dead)\n",
    "print(\"Alive # : \",st_alive)\n",
    "print(\"Total # : \",st_total)\n",
    "print(\"Death Rate # : \",st_death_rate)\n",
    "print(\"Survival Rate # : \",st_survival_rate)"
   ]
  },
  {
   "cell_type": "code",
   "execution_count": null,
   "metadata": {},
   "outputs": [],
   "source": [
    "# Season Survival & Death Rates \n",
    "sea_dead = ss[(ss.isAlive == 0)].db_Season.value_counts()\n",
    "\n",
    "sea_alive = ss[(ss.isAlive == 1)].db_Season.value_counts()\n",
    "\n",
    "sea_total = ss[(ss.isAlive == 0) | (ss.isAlive == 1)].db_Season.value_counts()\n",
    "\n",
    "sea_death_rate = (ss[(ss.isAlive == 0)].db_Season.value_counts() / ss[(ss.isAlive == 0) | (ss.isAlive == 1)].db_Season.value_counts() * 100)\n",
    "\n",
    "sea_survival_rate = (ss[(ss.isAlive == 1)].db_Season.value_counts() / ss[(ss.isAlive == 0) | (ss.isAlive == 1)].db_Season.value_counts() * 100)\n",
    "\n",
    "print(\"Dead # : \", sea_dead)\n",
    "#print(sorted(zip(map(lambda x: round(x, 4), db_Season), sea_dead), reverse=False))\n",
    "print(\"Alive # : \",sea_alive)\n",
    "print(\"Total # : \",sea_total)\n",
    "print(\"Death Rate # : \",sea_death_rate)\n",
    "print(\"Survival Rate # : \",sea_survival_rate)"
   ]
  },
  {
   "cell_type": "code",
   "execution_count": null,
   "metadata": {},
   "outputs": [],
   "source": [
    "# Stock Type Survival & Death Rates\n",
    "stkt_dead = ss[(ss.isAlive == 0)].db_StockT.value_counts()\n",
    "\n",
    "stkt_alive = ss[(ss.isAlive == 1)].db_StockT.value_counts()\n",
    "\n",
    "stkt_total = ss[(ss.isAlive == 0) | (ss.isAlive == 1)].db_StockT.value_counts()\n",
    "\n",
    "stkt_death_rate = (ss[(ss.isAlive == 0)].db_StockT.value_counts() / ss[(ss.isAlive == 0) | (ss.isAlive == 1)].db_StockT.value_counts() * 100)\n",
    "\n",
    "stkt_survival_rate = (ss[(ss.isAlive == 1)].db_StockT.value_counts() / ss[(ss.isAlive == 0) | (ss.isAlive == 1)].db_StockT.value_counts() * 100)\n",
    "\n",
    "print(\"Dead # : \",stkt_dead)\n",
    "print(\"Alive # : \",stkt_alive)\n",
    "print(\"Total # : \",stkt_total)\n",
    "print(\"Death Rate # : \",stkt_death_rate)\n",
    "print(\"Survival Rate # : \",stkt_survival_rate)"
   ]
  },
  {
   "cell_type": "code",
   "execution_count": null,
   "metadata": {},
   "outputs": [],
   "source": [
    "SciNameCounts = ss.SciName.value_counts().rename_axis('sci_name').reset_index(name='counts')\n",
    "SciNameCounts"
   ]
  },
  {
   "cell_type": "code",
   "execution_count": null,
   "metadata": {},
   "outputs": [],
   "source": [
    "topSciNames = SciNameCounts[SciNameCounts.counts > 100]\n",
    "topSciNames "
   ]
  },
  {
   "cell_type": "code",
   "execution_count": null,
   "metadata": {},
   "outputs": [],
   "source": [
    "ss[(ss.isAlive == 1)].db_Genus.value_counts().plot(kind='bar', color='b');"
   ]
  },
  {
   "cell_type": "code",
   "execution_count": null,
   "metadata": {},
   "outputs": [],
   "source": [
    "ss[(ss.isAlive == 0)].db_Genus.value_counts().plot(kind='bar', color='b');"
   ]
  },
  {
   "cell_type": "code",
   "execution_count": null,
   "metadata": {},
   "outputs": [],
   "source": [
    "labels = topSciNames.sci_name\n",
    "counts = topSciNames.counts\n",
    "\n",
    "y_positions = range(len(labels))\n",
    "\n",
    "plt.bar(y_positions, counts)\n",
    "plt.xticks(y_positions, labels)\n",
    "plt.ylabel(\"Count\")\n",
    "plt.title(\"Trees by Count\")\n",
    "plt.show"
   ]
  }
 ],
 "metadata": {
  "kernelspec": {
   "display_name": "Python 3",
   "language": "python",
   "name": "python3"
  },
  "language_info": {
   "codemirror_mode": {
    "name": "ipython",
    "version": 3
   },
   "file_extension": ".py",
   "mimetype": "text/x-python",
   "name": "python",
   "nbconvert_exporter": "python",
   "pygments_lexer": "ipython3",
   "version": "3.7.3"
  }
 },
 "nbformat": 4,
 "nbformat_minor": 2
}
